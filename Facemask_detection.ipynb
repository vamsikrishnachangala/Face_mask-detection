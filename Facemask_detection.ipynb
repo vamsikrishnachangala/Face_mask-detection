{
  "nbformat": 4,
  "nbformat_minor": 0,
  "metadata": {
    "colab": {
      "name": "Facemask_detection.ipynb",
      "provenance": [],
      "collapsed_sections": []
    },
    "kernelspec": {
      "name": "python3",
      "display_name": "Python 3"
    }
  },
  "cells": [
    {
      "cell_type": "markdown",
      "metadata": {
        "id": "cBObBuSDaP3j"
      },
      "source": [
        "Importing required libraries"
      ]
    },
    {
      "cell_type": "code",
      "metadata": {
        "id": "MsWgoB5Mgt6D"
      },
      "source": [
        "import tensorflow as tf\n",
        "from tensorflow.keras.preprocessing.image import ImageDataGenerator"
      ],
      "execution_count": null,
      "outputs": []
    },
    {
      "cell_type": "markdown",
      "metadata": {
        "id": "ZYc3rGGmaXoC"
      },
      "source": [
        "Creating Image data genenrator with recaling,shear range,zoom range,horizontal flip"
      ]
    },
    {
      "cell_type": "code",
      "metadata": {
        "id": "AtZccDwCh88u"
      },
      "source": [
        "train_datagen=ImageDataGenerator(rescale=1./255,shear_range=0.2,zoom_range=0.2,horizontal_flip=True)"
      ],
      "execution_count": null,
      "outputs": []
    },
    {
      "cell_type": "markdown",
      "metadata": {
        "id": "qqka2GH4atRW"
      },
      "source": [
        "loading the dataset"
      ]
    },
    {
      "cell_type": "code",
      "metadata": {
        "id": "u7uYG-cviNd0",
        "outputId": "8dc48f36-29df-4c89-d10b-b044bdacff12",
        "colab": {
          "base_uri": "https://localhost:8080/",
          "height": 34
        }
      },
      "source": [
        "training_set=train_datagen.flow_from_directory('/content/drive/My Drive/Inmovidu_tech',target_size=(100,100),batch_size=32,class_mode='binary')"
      ],
      "execution_count": null,
      "outputs": [
        {
          "output_type": "stream",
          "text": [
            "Found 1387 images belonging to 2 classes.\n"
          ],
          "name": "stdout"
        }
      ]
    },
    {
      "cell_type": "markdown",
      "metadata": {
        "id": "XhSaTO6YaxpK"
      },
      "source": [
        "Initializing sequential model"
      ]
    },
    {
      "cell_type": "code",
      "metadata": {
        "id": "ARsCMEuji_hn"
      },
      "source": [
        "cnn=tf.keras.models.Sequential()"
      ],
      "execution_count": null,
      "outputs": []
    },
    {
      "cell_type": "markdown",
      "metadata": {
        "id": "IIoC917Aa2FR"
      },
      "source": [
        "Adding first convolutional layer"
      ]
    },
    {
      "cell_type": "code",
      "metadata": {
        "id": "xxyaQLeijGHF"
      },
      "source": [
        "cnn.add(tf.keras.layers.Conv2D(filters=45,kernel_size=4,padding='same',activation='relu',input_shape=[100,100,3]))"
      ],
      "execution_count": null,
      "outputs": []
    },
    {
      "cell_type": "markdown",
      "metadata": {
        "id": "-n0_JH8-a52i"
      },
      "source": [
        "pooling layers"
      ]
    },
    {
      "cell_type": "code",
      "metadata": {
        "id": "YKCq9ST6j7tU"
      },
      "source": [
        "cnn.add(tf.keras.layers.MaxPool2D(pool_size=4,strides=2,padding='valid'))"
      ],
      "execution_count": null,
      "outputs": []
    },
    {
      "cell_type": "markdown",
      "metadata": {
        "id": "eokhrYFWa97e"
      },
      "source": [
        "Batch normalization and dropout to avoid overfitting"
      ]
    },
    {
      "cell_type": "code",
      "metadata": {
        "id": "nbpBkq9EkwRH"
      },
      "source": [
        "cnn.add(tf.keras.layers.BatchNormalization())\n",
        "cnn.add(tf.keras.layers.Dropout(0.25))"
      ],
      "execution_count": null,
      "outputs": []
    },
    {
      "cell_type": "markdown",
      "metadata": {
        "id": "LNJP9RHzbDhg"
      },
      "source": [
        "second convolution layer"
      ]
    },
    {
      "cell_type": "code",
      "metadata": {
        "id": "IP5cBHVYkkwb"
      },
      "source": [
        "cnn.add(tf.keras.layers.Conv2D(filters=45,kernel_size=4,padding='same',activation='relu',input_shape=[100,100,3]))"
      ],
      "execution_count": null,
      "outputs": []
    },
    {
      "cell_type": "markdown",
      "metadata": {
        "id": "mmMgYTDlbHjZ"
      },
      "source": [
        "second pooling layer"
      ]
    },
    {
      "cell_type": "code",
      "metadata": {
        "id": "zHRXvWUMkpAP"
      },
      "source": [
        "cnn.add(tf.keras.layers.MaxPool2D(pool_size=4,strides=2,padding='valid'))"
      ],
      "execution_count": null,
      "outputs": []
    },
    {
      "cell_type": "markdown",
      "metadata": {
        "id": "UQzikf1RbZyE"
      },
      "source": [
        "batch normalization and dropout to avoid overfitting"
      ]
    },
    {
      "cell_type": "code",
      "metadata": {
        "id": "TwGFEqRulEqB"
      },
      "source": [
        "cnn.add(tf.keras.layers.BatchNormalization())\n",
        "cnn.add(tf.keras.layers.Dropout(0.25))"
      ],
      "execution_count": null,
      "outputs": []
    },
    {
      "cell_type": "markdown",
      "metadata": {
        "id": "wjwHceZmbgNc"
      },
      "source": [
        "flatten the convolved output"
      ]
    },
    {
      "cell_type": "code",
      "metadata": {
        "id": "MrP7QUC9lJ36"
      },
      "source": [
        "cnn.add(tf.keras.layers.Flatten())"
      ],
      "execution_count": null,
      "outputs": []
    },
    {
      "cell_type": "markdown",
      "metadata": {
        "id": "iiCt6mMobmOA"
      },
      "source": [
        "first fully connected layer with relu activation and dropout"
      ]
    },
    {
      "cell_type": "code",
      "metadata": {
        "id": "ArZ16EXMlVo6"
      },
      "source": [
        "cnn.add(tf.keras.layers.Dense(units=200,activation='relu'))\n",
        "cnn.add(tf.keras.layers.Dropout(0.25))"
      ],
      "execution_count": null,
      "outputs": []
    },
    {
      "cell_type": "markdown",
      "metadata": {
        "id": "H2Lv0ocrbuEl"
      },
      "source": [
        "second fully connected layer with relu activation and dropout"
      ]
    },
    {
      "cell_type": "code",
      "metadata": {
        "id": "U1MusYYulz-k"
      },
      "source": [
        "cnn.add(tf.keras.layers.Dense(units=100,activation='relu'))\n",
        "cnn.add(tf.keras.layers.Dropout(0.25))"
      ],
      "execution_count": null,
      "outputs": []
    },
    {
      "cell_type": "markdown",
      "metadata": {
        "id": "RFolfwI1b0OV"
      },
      "source": [
        "output layer with one node with sigmoid activation as we have to predict with/without mask"
      ]
    },
    {
      "cell_type": "code",
      "metadata": {
        "id": "q9LwpLtZlsxe"
      },
      "source": [
        "cnn.add(tf.keras.layers.Dense(units=1,activation='sigmoid'))"
      ],
      "execution_count": null,
      "outputs": []
    },
    {
      "cell_type": "markdown",
      "metadata": {
        "id": "UbyhJXdMb90F"
      },
      "source": [
        "compiling the cnn"
      ]
    },
    {
      "cell_type": "code",
      "metadata": {
        "id": "6aMGwNQpl-6K"
      },
      "source": [
        "cnn.compile(optimizer='adam',loss='binary_crossentropy',metrics=['accuracy'])"
      ],
      "execution_count": null,
      "outputs": []
    },
    {
      "cell_type": "markdown",
      "metadata": {
        "id": "UH6nnMKZcBdb"
      },
      "source": [
        "Fitting the model to the dataset"
      ]
    },
    {
      "cell_type": "code",
      "metadata": {
        "id": "MOH4o2jTmJb9",
        "outputId": "3850e5ae-ada1-4cd4-e306-0178eb8dd590",
        "colab": {
          "base_uri": "https://localhost:8080/",
          "height": 706
        }
      },
      "source": [
        "cnn.fit(training_set,batch_size=50,epochs=20,verbose=1)"
      ],
      "execution_count": null,
      "outputs": [
        {
          "output_type": "stream",
          "text": [
            "Epoch 1/20\n",
            "44/44 [==============================] - 553s 13s/step - loss: 0.7274 - accuracy: 0.9099\n",
            "Epoch 2/20\n",
            "44/44 [==============================] - 49s 1s/step - loss: 0.5781 - accuracy: 0.9452\n",
            "Epoch 3/20\n",
            "44/44 [==============================] - 49s 1s/step - loss: 0.5177 - accuracy: 0.9546\n",
            "Epoch 4/20\n",
            "44/44 [==============================] - 49s 1s/step - loss: 0.4110 - accuracy: 0.9632\n",
            "Epoch 5/20\n",
            "44/44 [==============================] - 49s 1s/step - loss: 0.3846 - accuracy: 0.9726\n",
            "Epoch 6/20\n",
            "44/44 [==============================] - 49s 1s/step - loss: 0.3101 - accuracy: 0.9632\n",
            "Epoch 7/20\n",
            "44/44 [==============================] - 49s 1s/step - loss: 0.2811 - accuracy: 0.9733\n",
            "Epoch 8/20\n",
            "44/44 [==============================] - 49s 1s/step - loss: 0.1347 - accuracy: 0.9805\n",
            "Epoch 9/20\n",
            "44/44 [==============================] - 49s 1s/step - loss: 0.0996 - accuracy: 0.9856\n",
            "Epoch 10/20\n",
            "44/44 [==============================] - 49s 1s/step - loss: 0.0848 - accuracy: 0.9849\n",
            "Epoch 11/20\n",
            "44/44 [==============================] - 49s 1s/step - loss: 0.1448 - accuracy: 0.9805\n",
            "Epoch 12/20\n",
            "44/44 [==============================] - 49s 1s/step - loss: 0.1582 - accuracy: 0.9849\n",
            "Epoch 13/20\n",
            "44/44 [==============================] - 49s 1s/step - loss: 0.1551 - accuracy: 0.9769\n",
            "Epoch 14/20\n",
            "44/44 [==============================] - 49s 1s/step - loss: 0.0216 - accuracy: 0.9935\n",
            "Epoch 15/20\n",
            "44/44 [==============================] - 49s 1s/step - loss: 0.0686 - accuracy: 0.9870\n",
            "Epoch 16/20\n",
            "44/44 [==============================] - 48s 1s/step - loss: 0.0314 - accuracy: 0.9935\n",
            "Epoch 17/20\n",
            "44/44 [==============================] - 49s 1s/step - loss: 0.0153 - accuracy: 0.9964\n",
            "Epoch 18/20\n",
            "44/44 [==============================] - 49s 1s/step - loss: 0.0256 - accuracy: 0.9971\n",
            "Epoch 19/20\n",
            "44/44 [==============================] - 49s 1s/step - loss: 0.0187 - accuracy: 0.9950\n",
            "Epoch 20/20\n",
            "44/44 [==============================] - 49s 1s/step - loss: 0.0183 - accuracy: 0.9950\n"
          ],
          "name": "stdout"
        },
        {
          "output_type": "execute_result",
          "data": {
            "text/plain": [
              "<tensorflow.python.keras.callbacks.History at 0x7f1579e6f320>"
            ]
          },
          "metadata": {
            "tags": []
          },
          "execution_count": 36
        }
      ]
    },
    {
      "cell_type": "markdown",
      "metadata": {
        "id": "DOXrXQ3acF0b"
      },
      "source": [
        "Finally acheived with 99% accuracy"
      ]
    }
  ]
}